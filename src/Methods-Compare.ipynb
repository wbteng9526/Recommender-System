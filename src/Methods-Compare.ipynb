{
 "cells": [
  {
   "cell_type": "code",
   "execution_count": 1,
   "metadata": {},
   "outputs": [],
   "source": [
    "import tensorflow as tf\n",
    "import numpy as np\n",
    "import pandas as pd\n",
    "import random\n",
    "import argparse\n",
    "import matplotlib.pyplot as plt"
   ]
  },
  {
   "cell_type": "code",
   "execution_count": 2,
   "metadata": {},
   "outputs": [],
   "source": [
    "import sys\n",
    "sys.argv=['']\n",
    "del sys"
   ]
  },
  {
   "cell_type": "code",
   "execution_count": 3,
   "metadata": {},
   "outputs": [],
   "source": [
    "from data_loader import load_data_matrix, load_data\n",
    "from model import get_similarity, predict, MatrixFactorization, NeuralNetwork\n",
    "from train import train\n",
    "from args import args_mf, args_nn"
   ]
  },
  {
   "cell_type": "code",
   "execution_count": 10,
   "metadata": {},
   "outputs": [
    {
     "name": "stdout",
     "output_type": "stream",
     "text": [
      "Loading data...\n"
     ]
    }
   ],
   "source": [
    "train_data_matrix, test_data_matrix = load_data_matrix(0.3)\n",
    "similarity = get_similarity(train_data_matrix, sim_type = 'cosine', cf_type = 'user')\n",
    "cf_prediction = predict(train_data_matrix, similarity, cf_type = 'user')"
   ]
  },
  {
   "cell_type": "code",
   "execution_count": 12,
   "metadata": {},
   "outputs": [
    {
     "name": "stdout",
     "output_type": "stream",
     "text": [
      "loading data ...\n",
      "splitting dataset ...\n",
      "epoch 0    train loss: 4.1670  rmse: 2.0408    val loss: 4.2291  rmse: 2.0563    test loss: 4.2652  rmse: 2.0651\n",
      "epoch 10    train loss: 1.5709  rmse: 1.2530    val loss: 1.7447  rmse: 1.3208    test loss: 1.7588  rmse: 1.3261\n",
      "epoch 20    train loss: 1.1742  rmse: 1.0833    val loss: 1.3578  rmse: 1.1652    test loss: 1.3802  rmse: 1.1747\n",
      "epoch 30    train loss: 1.0258  rmse: 1.0125    val loss: 1.2219  rmse: 1.1053    test loss: 1.2407  rmse: 1.1138\n",
      "epoch 40    train loss: 0.9487  rmse: 0.9737    val loss: 1.1514  rmse: 1.0729    test loss: 1.1638  rmse: 1.0787\n",
      "epoch 50    train loss: 0.9035  rmse: 0.9502    val loss: 1.1166  rmse: 1.0566    test loss: 1.1298  rmse: 1.0628\n",
      "epoch 60    train loss: 0.8740  rmse: 0.9346    val loss: 1.0891  rmse: 1.0435    test loss: 1.1005  rmse: 1.0490\n",
      "epoch 70    train loss: 0.8529  rmse: 0.9232    val loss: 1.0699  rmse: 1.0343    test loss: 1.0811  rmse: 1.0397\n",
      "epoch 80    train loss: 0.8348  rmse: 0.9133    val loss: 1.0559  rmse: 1.0275    test loss: 1.0650  rmse: 1.0319\n",
      "epoch 90    train loss: 0.8216  rmse: 0.9061    val loss: 1.0520  rmse: 1.0256    test loss: 1.0591  rmse: 1.0290\n",
      "epoch 100    train loss: 0.8106  rmse: 0.9000    val loss: 1.0423  rmse: 1.0208    test loss: 1.0486  rmse: 1.0239\n",
      "epoch 110    train loss: 0.8020  rmse: 0.8952    val loss: 1.0369  rmse: 1.0182    test loss: 1.0431  rmse: 1.0212\n",
      "epoch 120    train loss: 0.7937  rmse: 0.8906    val loss: 1.0350  rmse: 1.0173    test loss: 1.0404  rmse: 1.0199\n",
      "epoch 130    train loss: 0.7862  rmse: 0.8864    val loss: 1.0332  rmse: 1.0164    test loss: 1.0383  rmse: 1.0189\n",
      "epoch 140    train loss: 0.7804  rmse: 0.8831    val loss: 1.0300  rmse: 1.0148    test loss: 1.0377  rmse: 1.0186\n",
      "epoch 150    train loss: 0.7749  rmse: 0.8800    val loss: 1.0292  rmse: 1.0144    test loss: 1.0327  rmse: 1.0161\n",
      "epoch 160    train loss: 0.7695  rmse: 0.8769    val loss: 1.0263  rmse: 1.0130    test loss: 1.0318  rmse: 1.0157\n",
      "epoch 170    train loss: 0.7644  rmse: 0.8740    val loss: 1.0281  rmse: 1.0138    test loss: 1.0323  rmse: 1.0159\n",
      "epoch 180    train loss: 0.7597  rmse: 0.8713    val loss: 1.0278  rmse: 1.0137    test loss: 1.0325  rmse: 1.0160\n",
      "epoch 190    train loss: 0.7555  rmse: 0.8688    val loss: 1.0318  rmse: 1.0157    test loss: 1.0336  rmse: 1.0166\n"
     ]
    }
   ],
   "source": [
    "data_info_mf = load_data(args_mf)\n",
    "mf_info = train(args_mf, data_info_mf,model_type = 'mf')\n",
    "mf_prediction = mf_info[3]"
   ]
  },
  {
   "cell_type": "code",
   "execution_count": 5,
   "metadata": {},
   "outputs": [
    {
     "name": "stdout",
     "output_type": "stream",
     "text": [
      "loading data ...\n",
      "splitting dataset ...\n",
      "epoch 0    train loss: 16.8467  rmse: 4.1044    val loss: 16.7003  rmse: 4.0866    test loss: 16.7572  rmse: 4.0935\n",
      "epoch 1    train loss: 15.1562  rmse: 3.8930    val loss: 15.0321  rmse: 3.8771    test loss: 15.0774  rmse: 3.8829\n",
      "epoch 2    train loss: 13.7432  rmse: 3.7070    val loss: 13.6371  rmse: 3.6928    test loss: 13.6733  rmse: 3.6977\n",
      "epoch 3    train loss: 12.5508  rmse: 3.5426    val loss: 12.4595  rmse: 3.5298    test loss: 12.4885  rmse: 3.5339\n",
      "epoch 4    train loss: 11.5243  rmse: 3.3946    val loss: 11.4456  rmse: 3.3831    test loss: 11.4687  rmse: 3.3865\n",
      "epoch 5    train loss: 10.6162  rmse: 3.2581    val loss: 10.5486  rmse: 3.2478    test loss: 10.5666  rmse: 3.2506\n",
      "epoch 6    train loss: 9.8228  rmse: 3.1340    val loss: 9.7645  rmse: 3.1248    test loss: 9.7783  rmse: 3.1270\n",
      "epoch 7    train loss: 9.1108  rmse: 3.0183    val loss: 9.0610  rmse: 3.0101    test loss: 9.0711  rmse: 3.0118\n",
      "epoch 8    train loss: 8.5074  rmse: 2.9166    val loss: 8.4646  rmse: 2.9093    test loss: 8.4717  rmse: 2.9106\n",
      "epoch 9    train loss: 7.9549  rmse: 2.8203    val loss: 7.9185  rmse: 2.8139    test loss: 7.9229  rmse: 2.8147\n",
      "epoch 10    train loss: 7.4604  rmse: 2.7312    val loss: 7.4299  rmse: 2.7257    test loss: 7.4318  rmse: 2.7261\n",
      "epoch 11    train loss: 7.0170  rmse: 2.6488    val loss: 6.9917  rmse: 2.6441    test loss: 6.9915  rmse: 2.6441\n",
      "epoch 12    train loss: 6.6148  rmse: 2.5717    val loss: 6.5942  rmse: 2.5679    test loss: 6.5921  rmse: 2.5675\n",
      "epoch 13    train loss: 6.2673  rmse: 2.5033    val loss: 6.2508  rmse: 2.5001    test loss: 6.2472  rmse: 2.4994\n",
      "epoch 14    train loss: 5.9357  rmse: 2.4361    val loss: 5.9232  rmse: 2.4337    test loss: 5.9180  rmse: 2.4326\n",
      "epoch 15    train loss: 5.6359  rmse: 2.3738    val loss: 5.6270  rmse: 2.3721    test loss: 5.6205  rmse: 2.3707\n",
      "epoch 16    train loss: 5.3620  rmse: 2.3154    val loss: 5.3566  rmse: 2.3144    test loss: 5.3488  rmse: 2.3127\n",
      "epoch 17    train loss: 5.1180  rmse: 2.2621    val loss: 5.1156  rmse: 2.2617    test loss: 5.1067  rmse: 2.2597\n",
      "epoch 18    train loss: 4.8956  rmse: 2.2124    val loss: 4.8960  rmse: 2.2126    test loss: 4.8860  rmse: 2.2104\n",
      "epoch 19    train loss: 4.6940  rmse: 2.1664    val loss: 4.6969  rmse: 2.1671    test loss: 4.6860  rmse: 2.1647\n"
     ]
    }
   ],
   "source": [
    "data_info = load_data(args_nn)\n",
    "nn_info = train(args_nn, data_info, model_type = 'nn')\n",
    "nn_prediction = nn_info[3]"
   ]
  },
  {
   "cell_type": "code",
   "execution_count": 49,
   "metadata": {},
   "outputs": [],
   "source": [
    "def get_criterion(prediction, ground_truth, thres):\n",
    "\n",
    "    binary_prediction = prediction >= thres\n",
    "    binary_prediction = (1 * binary_prediction.reshape(1,-1)).tolist()[0]\n",
    "    \n",
    "    binary_real = ground_truth >= thres\n",
    "    binary_real = (1 * binary_real.reshape(1,-1)).tolist()[0]\n",
    "\n",
    "    TP = sum([int(x+y==2) for x,y in zip(binary_prediction, binary_real)])\n",
    "    FP = sum([int(x-y==1) for x,y in zip(binary_prediction, binary_real)])\n",
    "    TN = sum([int(x+y==0) for x,y in zip(binary_prediction, binary_real)])\n",
    "    FN = sum([int(y-x==1) for x,y in zip(binary_prediction, binary_real)])\n",
    "    \n",
    "    precision = TP / (TP + FP)\n",
    "    recall = TP / (TP + FN)\n",
    "    #TPR = recall\n",
    "    #FPR = FP / (FP + TN)\n",
    "    \n",
    "    return precision, recall#, TPR, FPR"
   ]
  },
  {
   "cell_type": "code",
   "execution_count": 56,
   "metadata": {},
   "outputs": [],
   "source": [
    "def plot_criterion(prediction, ground_truth, thres_range, plot_type, color = 'red'):\n",
    "    \n",
    "    precision_ls, recall_ls, tpr_ls, fpr_ls = [],[],[],[]\n",
    "    \n",
    "    for thres in thres_range:\n",
    "        precision, recall = get_criterion(prediction, ground_truth, thres = thres)\n",
    "        \n",
    "        precision_ls.append(precision)\n",
    "        recall_ls.append(recall)\n",
    "        #tpr_ls.append(tpr)\n",
    "        #fpr_ls.append(fpr)\n",
    "    \n",
    "    if plot_type == \"PR\":\n",
    "        plt.plot(recall_ls,precision_ls,color = color)\n",
    "        plt.xlabel(\"Recall\")\n",
    "        plt.ylabel(\"Precision\")\n",
    "        plt.title(\"P-R Curve\")\n",
    "    else:\n",
    "        plt.plot(fpr_ls, tpr_ls, color = color)\n",
    "        plt.xlabel(\"False Positive Rate\")\n",
    "        plt.ylabel(\"True Positive Rate\")\n",
    "        plt.title(\"ROC Curve\")\n",
    "\n",
    "   \n",
    "    return None"
   ]
  },
  {
   "cell_type": "code",
   "execution_count": 8,
   "metadata": {},
   "outputs": [],
   "source": [
    "THRES_RANGE = [0.01] + np.arange(0.05,2.6,0.05).tolist()"
   ]
  },
  {
   "cell_type": "code",
   "execution_count": 57,
   "metadata": {},
   "outputs": [
    {
     "data": {
      "image/png": "[encoded data removed]",
      "text/plain": [
       "<Figure size 432x288 with 1 Axes>"
      ]
     },
     "metadata": {
      "needs_background": "light"
     },
     "output_type": "display_data"
    }
   ],
   "source": [
    "plt.figure()\n",
    "plot_criterion(cf_prediction,test_data_matrix,thres_range = THRES_RANGE,plot_type = 'PR',color = 'red')\n",
    "plot_criterion(mf_prediction,data_info_mf[4][:,2],thres_range = THRES_RANGE,plot_type = 'PR',color = 'green')\n",
    "plot_criterion(nn_prediction,data_info[4],thres_range = THRES_RANGE,plot_type = 'PR',color = 'blue')\n",
    "plt.show()"
   ]
  }
 ],
 "metadata": {
  "kernelspec": {
   "display_name": "Python 3",
   "language": "python",
   "name": "python3"
  },
  "language_info": {
   "codemirror_mode": {
    "name": "ipython",
    "version": 3
   },
   "file_extension": ".py",
   "mimetype": "text/x-python",
   "name": "python",
   "nbconvert_exporter": "python",
   "pygments_lexer": "ipython3",
   "version": "3.7.3"
  }
 },
 "nbformat": 4,
 "nbformat_minor": 2
}
